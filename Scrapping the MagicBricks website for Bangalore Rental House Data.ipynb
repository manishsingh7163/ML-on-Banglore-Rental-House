{
 "cells": [
  {
   "cell_type": "markdown",
   "metadata": {},
   "source": [
    "####  Importing required libraries "
   ]
  },
  {
   "cell_type": "code",
   "execution_count": null,
   "metadata": {},
   "outputs": [],
   "source": [
    "from bs4 import BeautifulSoup\n",
    "import time\n",
    "import pandas as pd\n",
    "import requests\n",
    "import re\n",
    "import numpy as np"
   ]
  },
  {
   "cell_type": "markdown",
   "metadata": {},
   "source": [
    "##### Scrapping data from the Magicbricks website."
   ]
  },
  {
   "cell_type": "code",
   "execution_count": null,
   "metadata": {},
   "outputs": [],
   "source": [
    "BHK = []\n",
    "Name=[]\n",
    "Rent=[]\n",
    "Area = []\n",
    "Latitude = []\n",
    "Longitude = []\n",
    "Address=[]\n",
    "Age=[]\n",
    "\n",
    "for i in range(25):\n",
    "    url = requests.get('https://www.magicbricks.com/mbsearch/propertySearch.html?propertyType_new=10002_10003_10021_10022_10020&postedSince=-1&city=3327&searchType=1&propertyType=10002,10003,10021,10022,10020&disWeb=Y&pType=10002,10003,10021,10022,10020&category=R&cusImgCount=1&groupstart='+ str(30*i)+'&offset=0&maxOffset=96&attractiveIds=&page='+str(i+1)+'&ltrIds=52321519,30539803,52508909,54014987,54344767,53710167,55594663,51218898,55577007,55633103,54186453,54923431,55213743,55100831,55591477,55547111,55479519,54894467,54394163,54264959,55798271,54419427,54839861,53803685,55721671,54684109,55004973,55670889&preCompiledProp=&excludePropIds=&addpropertyDataSet=').text\n",
    "\n",
    "    time.sleep(2)\n",
    "\n",
    "    soup = BeautifulSoup(url, 'lxml')\n",
    "    houses = soup.find_all('div', class_='m-srp-card SRCard')\n",
    "    for i in houses:\n",
    "        if (i.find('meta', itemprop='latitude')!=None):\n",
    "            Latitude.append(i.find('meta', itemprop='latitude')['content'])\n",
    "        else:\n",
    "            Latitude.append(\"\")\n",
    "\n",
    "        if (i.find('meta', itemprop='longitude')!=None):\n",
    "            Longitude.append(i.find('meta', itemprop='longitude')['content'])\n",
    "        else:\n",
    "            Longitude.append(\"\")\n",
    "        if (i.find('meta', itemprop='numberOfRooms')!=None):\n",
    "            BHK.append(i.find('meta', itemprop='numberOfRooms')['content'])\n",
    "        else:\n",
    "            BHK.append(\"\")\n",
    "\n",
    "        if (i.find('meta', itemprop='numberOfRooms')!=None):\n",
    "            Age.append(i.find('meta', itemprop='description')['content'])\n",
    "        else:\n",
    "            Age.append(\"\")\n",
    "\n",
    "        x=i.find('div',class_=\"m-srp-card__price\").text\n",
    "        Rent.append(re.sub('\\s+',' ',x))\n",
    "\n",
    "        x=i.find('meta', itemprop='name')['content']\n",
    "        y = re.findall(r\"(\\d+)\\s+sqft\", x)\n",
    "        \n",
    "        Area.append(y)\n",
    "\n",
    "df = pd.DataFrame(list(zip(BHK, Latitude, Longitude, Age, Area,Rent)),\n",
    "                      columns=['BHK', 'Latitude', 'Longitude','Description','Area(sqft)' , 'Rent(Rs)'])                               \n",
    "\n",
    "df.to_csv(\"House_Data_20.csv\", index=False)\n",
    "\n",
    "    \n",
    "print(\"File Exported Sucessfully!!!!\")    \n"
   ]
  }
 ],
 "metadata": {
  "kernelspec": {
   "display_name": "Python 3",
   "language": "python",
   "name": "python3"
  },
  "language_info": {
   "codemirror_mode": {
    "name": "ipython",
    "version": 3
   },
   "file_extension": ".py",
   "mimetype": "text/x-python",
   "name": "python",
   "nbconvert_exporter": "python",
   "pygments_lexer": "ipython3",
   "version": "3.7.4"
  }
 },
 "nbformat": 4,
 "nbformat_minor": 2
}
